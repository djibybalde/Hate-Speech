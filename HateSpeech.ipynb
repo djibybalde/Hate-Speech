{
 "cells": [
  {
   "cell_type": "markdown",
   "metadata": {},
   "source": [
    "# @Autors  \n",
    "- ## Djiby BALDE  \n",
    "- ## Divine Tulomba"
   ]
  },
  {
   "cell_type": "code",
   "execution_count": null,
   "metadata": {},
   "outputs": [],
   "source": []
  },
  {
   "cell_type": "markdown",
   "metadata": {},
   "source": [
    "# Hate speech dataset from a white supremacist forum \n",
    "La base de donnée `Hate speech` est télechargée à partir du site [GitHub](https://github.com/aitor-garcia-p/hate-speech-dataset) de MR. García Pablos. Elle contient 10703 fichiés. Chaque fichié est labellisé soit `hate` ou `noHate`. (les labels et les fichiés sont relié à l'aide de l'indentifiant du ficher)."
   ]
  },
  {
   "cell_type": "markdown",
   "metadata": {},
   "source": [
    "## Import Libraries"
   ]
  },
  {
   "cell_type": "code",
   "execution_count": 1,
   "metadata": {},
   "outputs": [],
   "source": [
    "import numpy as np\n",
    "import pandas as pd\n",
    "\n",
    "import glob\n",
    "from glob import iglob\n",
    "import pandas as pd\n"
   ]
  },
  {
   "cell_type": "code",
   "execution_count": 2,
   "metadata": {},
   "outputs": [],
   "source": [
    "import nltk\n",
    "import os\n",
    "import re\n",
    "import math\n",
    "import operator\n",
    "from nltk.stem import WordNetLemmatizer\n",
    "from nltk.corpus import stopwords\n",
    "from nltk.tokenize import sent_tokenize, word_tokenize\n",
    "Stopwords = set(stopwords.words('english'))\n",
    "wordlemmatizer = WordNetLemmatizer()\n"
   ]
  },
  {
   "cell_type": "markdown",
   "metadata": {},
   "source": [
    "# Load Data"
   ]
  },
  {
   "cell_type": "code",
   "execution_count": 5,
   "metadata": {},
   "outputs": [],
   "source": [
    "# Le chemain de la base\n",
    "path_text = 'all_files/'\n",
    "files_text = glob.glob(path_text+'*.txt')\n",
    "\n",
    "# Recuperer le nom de chaque fichier (identifiant du fichier) et de l'enregristré comme une variable\n",
    "# On stock d'abord le chemain correspondant dans uns list pour y pouvoir recuperer l'identifiant\n",
    "path_text = []\n",
    "for file in files_text:\n",
    "    path_text.append(file)\n",
    "    "
   ]
  },
  {
   "cell_type": "code",
   "execution_count": 6,
   "metadata": {},
   "outputs": [
    {
     "data": {
      "text/plain": [
       "['all_files/13458115_2.txt', 'all_files/13367480_1.txt']"
      ]
     },
     "execution_count": 6,
     "metadata": {},
     "output_type": "execute_result"
    }
   ],
   "source": [
    "path_text[:2]"
   ]
  },
  {
   "cell_type": "code",
   "execution_count": 4,
   "metadata": {},
   "outputs": [
    {
     "data": {
      "text/html": [
       "<div>\n",
       "<style scoped>\n",
       "    .dataframe tbody tr th:only-of-type {\n",
       "        vertical-align: middle;\n",
       "    }\n",
       "\n",
       "    .dataframe tbody tr th {\n",
       "        vertical-align: top;\n",
       "    }\n",
       "\n",
       "    .dataframe thead th {\n",
       "        text-align: right;\n",
       "    }\n",
       "</style>\n",
       "<table border=\"1\" class=\"dataframe\">\n",
       "  <thead>\n",
       "    <tr style=\"text-align: right;\">\n",
       "      <th></th>\n",
       "      <th>file_name</th>\n",
       "      <th>file_id</th>\n",
       "    </tr>\n",
       "  </thead>\n",
       "  <tbody>\n",
       "    <tr>\n",
       "      <th>0</th>\n",
       "      <td>all_files/13458115_2.txt</td>\n",
       "      <td>13458115_2</td>\n",
       "    </tr>\n",
       "    <tr>\n",
       "      <th>1</th>\n",
       "      <td>all_files/13367480_1.txt</td>\n",
       "      <td>13367480_1</td>\n",
       "    </tr>\n",
       "    <tr>\n",
       "      <th>2</th>\n",
       "      <td>all_files/30422449_1.txt</td>\n",
       "      <td>30422449_1</td>\n",
       "    </tr>\n",
       "    <tr>\n",
       "      <th>3</th>\n",
       "      <td>all_files/14651837_4.txt</td>\n",
       "      <td>14651837_4</td>\n",
       "    </tr>\n",
       "    <tr>\n",
       "      <th>4</th>\n",
       "      <td>all_files/30527903_3.txt</td>\n",
       "      <td>30527903_3</td>\n",
       "    </tr>\n",
       "  </tbody>\n",
       "</table>\n",
       "</div>"
      ],
      "text/plain": [
       "                  file_name     file_id\n",
       "0  all_files/13458115_2.txt  13458115_2\n",
       "1  all_files/13367480_1.txt  13367480_1\n",
       "2  all_files/30422449_1.txt  30422449_1\n",
       "3  all_files/14651837_4.txt  14651837_4\n",
       "4  all_files/30527903_3.txt  30527903_3"
      ]
     },
     "execution_count": 4,
     "metadata": {},
     "output_type": "execute_result"
    }
   ],
   "source": [
    "# Enregistrer l'indentifiant dans une colonne \n",
    "file_path = pd.DataFrame(path_text, columns=['file_name'])\n",
    "\n",
    "file_path['file_id'] = file_path['file_name'].str.split('/').str[1].str.split('.').str[0]\n",
    "file_path.head()"
   ]
  },
  {
   "cell_type": "code",
   "execution_count": 7,
   "metadata": {},
   "outputs": [],
   "source": [
    "# Importer les fichiés textes\n",
    "path_text = 'all_files/'\n",
    "files_text = glob.glob(path_text+'*.txt')\n",
    "\n",
    "texts = []\n",
    "for file in files_text:\n",
    "    texts.append(open(file,'r', encoding=\"utf-8\").readline())\n"
   ]
  },
  {
   "cell_type": "code",
   "execution_count": 8,
   "metadata": {},
   "outputs": [
    {
     "data": {
      "text/html": [
       "<div>\n",
       "<style scoped>\n",
       "    .dataframe tbody tr th:only-of-type {\n",
       "        vertical-align: middle;\n",
       "    }\n",
       "\n",
       "    .dataframe tbody tr th {\n",
       "        vertical-align: top;\n",
       "    }\n",
       "\n",
       "    .dataframe thead th {\n",
       "        text-align: right;\n",
       "    }\n",
       "</style>\n",
       "<table border=\"1\" class=\"dataframe\">\n",
       "  <thead>\n",
       "    <tr style=\"text-align: right;\">\n",
       "      <th></th>\n",
       "      <th>file_id</th>\n",
       "      <th>text</th>\n",
       "    </tr>\n",
       "  </thead>\n",
       "  <tbody>\n",
       "    <tr>\n",
       "      <th>0</th>\n",
       "      <td>13458115_2</td>\n",
       "      <td>It 's like that at most public boards .</td>\n",
       "    </tr>\n",
       "    <tr>\n",
       "      <th>1</th>\n",
       "      <td>13367480_1</td>\n",
       "      <td>I wonder if one of the victims opened the door...</td>\n",
       "    </tr>\n",
       "    <tr>\n",
       "      <th>2</th>\n",
       "      <td>30422449_1</td>\n",
       "      <td>Some people believe the Jack O ' Lantern also ...</td>\n",
       "    </tr>\n",
       "    <tr>\n",
       "      <th>3</th>\n",
       "      <td>14651837_4</td>\n",
       "      <td>Ready .... GO !!!</td>\n",
       "    </tr>\n",
       "    <tr>\n",
       "      <th>4</th>\n",
       "      <td>30527903_3</td>\n",
       "      <td>Thanks !</td>\n",
       "    </tr>\n",
       "  </tbody>\n",
       "</table>\n",
       "</div>"
      ],
      "text/plain": [
       "      file_id                                               text\n",
       "0  13458115_2            It 's like that at most public boards .\n",
       "1  13367480_1  I wonder if one of the victims opened the door...\n",
       "2  30422449_1  Some people believe the Jack O ' Lantern also ...\n",
       "3  14651837_4                                  Ready .... GO !!!\n",
       "4  30527903_3                                           Thanks !"
      ]
     },
     "execution_count": 8,
     "metadata": {},
     "output_type": "execute_result"
    }
   ],
   "source": [
    "# Mettre les fichiés et leur identifiant dans la table\n",
    "file_path = file_path['file_id']\n",
    "hate_speech = pd.concat([file_path, pd.DataFrame(texts,  columns=['text'])], axis=1)\n",
    "\n",
    "hate_speech.head()"
   ]
  },
  {
   "cell_type": "code",
   "execution_count": 9,
   "metadata": {},
   "outputs": [
    {
     "data": {
      "text/html": [
       "<div>\n",
       "<style scoped>\n",
       "    .dataframe tbody tr th:only-of-type {\n",
       "        vertical-align: middle;\n",
       "    }\n",
       "\n",
       "    .dataframe tbody tr th {\n",
       "        vertical-align: top;\n",
       "    }\n",
       "\n",
       "    .dataframe thead th {\n",
       "        text-align: right;\n",
       "    }\n",
       "</style>\n",
       "<table border=\"1\" class=\"dataframe\">\n",
       "  <thead>\n",
       "    <tr style=\"text-align: right;\">\n",
       "      <th></th>\n",
       "      <th>file_id</th>\n",
       "      <th>user_id</th>\n",
       "      <th>label</th>\n",
       "    </tr>\n",
       "  </thead>\n",
       "  <tbody>\n",
       "    <tr>\n",
       "      <th>0</th>\n",
       "      <td>12834217_1</td>\n",
       "      <td>572066</td>\n",
       "      <td>noHate</td>\n",
       "    </tr>\n",
       "    <tr>\n",
       "      <th>1</th>\n",
       "      <td>12834217_2</td>\n",
       "      <td>572066</td>\n",
       "      <td>noHate</td>\n",
       "    </tr>\n",
       "    <tr>\n",
       "      <th>2</th>\n",
       "      <td>12834217_3</td>\n",
       "      <td>572066</td>\n",
       "      <td>noHate</td>\n",
       "    </tr>\n",
       "    <tr>\n",
       "      <th>3</th>\n",
       "      <td>12834217_4</td>\n",
       "      <td>572066</td>\n",
       "      <td>hate</td>\n",
       "    </tr>\n",
       "    <tr>\n",
       "      <th>4</th>\n",
       "      <td>12834217_5</td>\n",
       "      <td>572066</td>\n",
       "      <td>noHate</td>\n",
       "    </tr>\n",
       "  </tbody>\n",
       "</table>\n",
       "</div>"
      ],
      "text/plain": [
       "      file_id  user_id   label\n",
       "0  12834217_1   572066  noHate\n",
       "1  12834217_2   572066  noHate\n",
       "2  12834217_3   572066  noHate\n",
       "3  12834217_4   572066    hate\n",
       "4  12834217_5   572066  noHate"
      ]
     },
     "execution_count": 9,
     "metadata": {},
     "output_type": "execute_result"
    }
   ],
   "source": [
    "# Importer table de la variable `label`\n",
    "annotations = pd.read_csv('annotations_metadata.csv')\n",
    "annotations.drop(['subforum_id', 'num_contexts'], axis=1, inplace=True)\n",
    "annotations.head()"
   ]
  },
  {
   "cell_type": "code",
   "execution_count": 16,
   "metadata": {},
   "outputs": [
    {
     "name": "stdout",
     "output_type": "stream",
     "text": [
      "(10703, 2)\n"
     ]
    },
    {
     "data": {
      "text/html": [
       "<div>\n",
       "<style scoped>\n",
       "    .dataframe tbody tr th:only-of-type {\n",
       "        vertical-align: middle;\n",
       "    }\n",
       "\n",
       "    .dataframe tbody tr th {\n",
       "        vertical-align: top;\n",
       "    }\n",
       "\n",
       "    .dataframe thead th {\n",
       "        text-align: right;\n",
       "    }\n",
       "</style>\n",
       "<table border=\"1\" class=\"dataframe\">\n",
       "  <thead>\n",
       "    <tr style=\"text-align: right;\">\n",
       "      <th></th>\n",
       "      <th>label</th>\n",
       "      <th>text</th>\n",
       "    </tr>\n",
       "  </thead>\n",
       "  <tbody>\n",
       "    <tr>\n",
       "      <th>0</th>\n",
       "      <td>noHate</td>\n",
       "      <td>As of March 13th , 2014 , the booklet had been...</td>\n",
       "    </tr>\n",
       "    <tr>\n",
       "      <th>1</th>\n",
       "      <td>noHate</td>\n",
       "      <td>In order to help increase the booklets downloa...</td>\n",
       "    </tr>\n",
       "    <tr>\n",
       "      <th>2</th>\n",
       "      <td>noHate</td>\n",
       "      <td>( Simply copy and paste the following text int...</td>\n",
       "    </tr>\n",
       "    <tr>\n",
       "      <th>3</th>\n",
       "      <td>hate</td>\n",
       "      <td>Click below for a FREE download of a colorfull...</td>\n",
       "    </tr>\n",
       "    <tr>\n",
       "      <th>4</th>\n",
       "      <td>noHate</td>\n",
       "      <td>Click on the `` DOWNLOAD ( 7.42 MB ) '' green ...</td>\n",
       "    </tr>\n",
       "  </tbody>\n",
       "</table>\n",
       "</div>"
      ],
      "text/plain": [
       "    label                                               text\n",
       "0  noHate  As of March 13th , 2014 , the booklet had been...\n",
       "1  noHate  In order to help increase the booklets downloa...\n",
       "2  noHate  ( Simply copy and paste the following text int...\n",
       "3    hate  Click below for a FREE download of a colorfull...\n",
       "4  noHate  Click on the `` DOWNLOAD ( 7.42 MB ) '' green ..."
      ]
     },
     "execution_count": 16,
     "metadata": {},
     "output_type": "execute_result"
    }
   ],
   "source": [
    "# Melanger les deux tables\n",
    "hate_speech_df = pd.merge(annotations, hate_speech, how='inner', on='file_id')\n",
    "hate_speech_df = hate_speech_df.loc[(hate_speech_df.label=='noHate') | (hate_speech_df.label=='hate')]\n",
    "hate_speech_df = hate_speech_df[['label','text']]\n",
    "\n",
    "print(hate_speech_df.shape)\n",
    "hate_speech_df.head()"
   ]
  },
  {
   "cell_type": "code",
   "execution_count": 17,
   "metadata": {},
   "outputs": [
    {
     "data": {
      "text/plain": [
       "(array(['noHate', 'hate'], dtype=object), (10703, 2))"
      ]
     },
     "execution_count": 17,
     "metadata": {},
     "output_type": "execute_result"
    }
   ],
   "source": [
    "hate_speech_df.label.unique(), hate_speech_df.shape"
   ]
  },
  {
   "cell_type": "code",
   "execution_count": 18,
   "metadata": {},
   "outputs": [
    {
     "data": {
      "text/plain": [
       "\"\\nnohate = hate_speech_df.loc[hate_speech_df.label=='noHate'].text\\nhate = hate_speech_df.loc[hate_speech_df.label=='hate'].text\\nhate.shape, nohate.shape\\n\\nhate_speech_df['text'].to_csv(r'hate_nohate/hate_speech.txt', header=None, index=None, sep=',')\\nnohate.to_csv(r'hate_nohate/nohate.txt', header=None, index=None, sep=',', mode='a')\\nhate.to_csv(r'hate_nohate/hate.txt', header=None, index=None, sep=',', mode='a')\\n#speech_file = 'hate_nohate/hate_speech.txt'\\n#speech_file = open(speech_file , 'r')\\n#speech_file = speech_file.read()\\n\""
      ]
     },
     "execution_count": 18,
     "metadata": {},
     "output_type": "execute_result"
    }
   ],
   "source": [
    "\"\"\"\n",
    "nohate = hate_speech_df.loc[hate_speech_df.label=='noHate'].text\n",
    "hate = hate_speech_df.loc[hate_speech_df.label=='hate'].text\n",
    "hate.shape, nohate.shape\n",
    "\n",
    "hate_speech_df['text'].to_csv(r'hate_nohate/hate_speech.txt', header=None, index=None, sep=',')\n",
    "nohate.to_csv(r'hate_nohate/nohate.txt', header=None, index=None, sep=',', mode='a')\n",
    "hate.to_csv(r'hate_nohate/hate.txt', header=None, index=None, sep=',', mode='a')\n",
    "#speech_file = 'hate_nohate/hate_speech.txt'\n",
    "#speech_file = open(speech_file , 'r')\n",
    "#speech_file = speech_file.read()\n",
    "\"\"\""
   ]
  },
  {
   "cell_type": "code",
   "execution_count": null,
   "metadata": {},
   "outputs": [],
   "source": []
  },
  {
   "cell_type": "code",
   "execution_count": null,
   "metadata": {},
   "outputs": [],
   "source": []
  },
  {
   "cell_type": "code",
   "execution_count": null,
   "metadata": {},
   "outputs": [],
   "source": []
  },
  {
   "cell_type": "markdown",
   "metadata": {},
   "source": [
    "# Text processing"
   ]
  },
  {
   "cell_type": "code",
   "execution_count": 19,
   "metadata": {},
   "outputs": [],
   "source": [
    "# Replace contractions with their longer forms\n",
    "contraction_mapping = {\"ain't\": \"is not\", \"aren't\": \"are not\",\"can't\": \"cannot\", \"'cause\": \"because\", \"could've\": \"could have\", \"couldn't\": \"could not\",\n",
    "                        \"didn't\": \"did not\", \"doesn't\": \"does not\", \"don't\": \"do not\", \"hadn't\": \"had not\", \"hasn't\": \"has not\", \"haven't\": \"have not\",\n",
    "                        \"he'd\": \"he would\",\"he'll\": \"he will\", \"he's\": \"he is\", \"how'd\": \"how did\", \"how'd'y\": \"how do you\", \"how'll\": \"how will\", \"how's\": \"how is\",\n",
    "                        \"I'd\": \"I would\", \"I'd've\": \"I would have\", \"I'll\": \"I will\", \"I'll've\": \"I will have\",\"I'm\": \"I am\", \"I've\": \"I have\", \"i'd\": \"i would\",\n",
    "                        \"i'd've\": \"i would have\", \"i'll\": \"i will\",  \"i'll've\": \"i will have\",\"i'm\": \"i am\", \"i've\": \"i have\", \"isn't\": \"is not\", \"it'd\": \"it would\",\n",
    "                        \"it'd've\": \"it would have\", \"it'll\": \"it will\", \"it'll've\": \"it will have\",\"it's\": \"it is\", \"let's\": \"let us\", \"ma'am\": \"madam\",\n",
    "                        \"mayn't\": \"may not\", \"might've\": \"might have\",\"mightn't\": \"might not\",\"mightn't've\": \"might not have\", \"must've\": \"must have\",\n",
    "                        \"mustn't\": \"must not\", \"mustn't've\": \"must not have\", \"needn't\": \"need not\", \"needn't've\": \"need not have\",\"o'clock\": \"of the clock\",\n",
    "                        \"oughtn't\": \"ought not\", \"oughtn't've\": \"ought not have\", \"shan't\": \"shall not\", \"sha'n't\": \"shall not\", \"shan't've\": \"shall not have\",\n",
    "                        \"she'd\": \"she would\", \"she'd've\": \"she would have\", \"she'll\": \"she will\", \"she'll've\": \"she will have\", \"she's\": \"she is\",\n",
    "                        \"should've\": \"should have\", \"shouldn't\": \"should not\", \"shouldn't've\": \"should not have\", \"so've\": \"so have\",\"so's\": \"so as\",\n",
    "                        \"this's\": \"this is\",\"that'd\": \"that would\", \"that'd've\": \"that would have\", \"that's\": \"that is\", \"there'd\": \"there would\",\n",
    "                        \"there'd've\": \"there would have\", \"there's\": \"there is\", \"here's\": \"here is\",\"they'd\": \"they would\", \"they'd've\": \"they would have\",\n",
    "                        \"they'll\": \"they will\", \"they'll've\": \"they will have\", \"they're\": \"they are\", \"they've\": \"they have\", \"to've\": \"to have\",\n",
    "                        \"wasn't\": \"was not\", \"we'd\": \"we would\", \"we'd've\": \"we would have\", \"we'll\": \"we will\", \"we'll've\": \"we will have\", \"we're\": \"we are\",\n",
    "                        \"we've\": \"we have\", \"weren't\": \"were not\", \"what'll\": \"what will\", \"what'll've\": \"what will have\", \"what're\": \"what are\",\n",
    "                        \"what's\": \"what is\", \"what've\": \"what have\", \"when's\": \"when is\", \"when've\": \"when have\", \"where'd\": \"where did\", \"where's\": \"where is\",\n",
    "                        \"where've\": \"where have\", \"who'll\": \"who will\", \"who'll've\": \"who will have\", \"who's\": \"who is\", \"who've\": \"who have\",\n",
    "                        \"why's\": \"why is\", \"why've\": \"why have\", \"will've\": \"will have\", \"won't\": \"will not\", \"won't've\": \"will not have\",\n",
    "                        \"would've\": \"would have\", \"wouldn't\": \"would not\", \"wouldn't've\": \"would not have\", \"y'all\": \"you all\",\n",
    "                        \"y'all'd\": \"you all would\",\"y'all'd've\": \"you all would have\",\"y'all're\": \"you all are\",\"y'all've\": \"you all have\",\n",
    "                        \"you'd\": \"you would\", \"you'd've\": \"you would have\", \"you'll\": \"you will\", \"you'll've\": \"you will have\",\n",
    "                        \"you're\": \"you are\", \"you've\": \"you have\"}\n"
   ]
  },
  {
   "cell_type": "code",
   "execution_count": 20,
   "metadata": {},
   "outputs": [],
   "source": [
    "hate_speech_df['text_orginal'] = hate_speech_df['text'].copy()"
   ]
  },
  {
   "cell_type": "code",
   "execution_count": 21,
   "metadata": {},
   "outputs": [],
   "source": [
    "# Nettoyage du text\n",
    "sentences = []\n",
    "for sentence in hate_speech_df['text']:\n",
    "    \n",
    "    space_pattern = '\\s+'\n",
    "    giant_url_regex = ('http[s]?://(?:[a-zA-Z]|[0-9]|[$-_@.&+]|'\n",
    "                       '[!*\\(\\),]|(?:%[0-9a-fA-F][0-9a-fA-F]))+')\n",
    "    mention_regex = '@[\\w\\-]+'\n",
    "    hashtag_regex = '#[\\w\\-]+'\n",
    "    \n",
    "    sentence = re.sub(space_pattern, ' ', sentence)\n",
    "    sentence = re.sub(giant_url_regex, 'URLHERE', sentence)\n",
    "    sentence = re.sub(mention_regex, 'MENTIONHERE', sentence)\n",
    "    sentence = re.sub(hashtag_regex, 'HASHTAGHERE', sentence)\n",
    "    \n",
    "    sentence = re.sub(r\"[^A-Za-z0-9^, !. \\/'+=]\", \" \", sentence)\n",
    "    sentence = re.sub(r\"!\",\" \", sentence)\n",
    "    sentence = re.sub(r\"</s>\",\" \", sentence)\n",
    "    sentence = re.sub(r\",\",\" \", sentence)\n",
    "    sentence = re.sub(r\"\\.\",\" \", sentence)\n",
    "    sentence = re.sub(r\"\\/\",\" \", sentence)\n",
    "    sentence = re.sub(r\"\\^\",\" ^ \", sentence)\n",
    "    sentence = re.sub(r\"\\+\",\" + \", sentence)\n",
    "    sentence = re.sub(r\"\\-\",\" - \", sentence)\n",
    "    sentence = re.sub(r\"\\=\",\" = \", sentence)\n",
    "    sentence = re.sub(r\"'\",\" \", sentence)\n",
    "    sentence = re.sub(r\"(\\d+)(k)\",r\"\\g<1>000 \", sentence)\n",
    "    sentence = re.sub(r\":\",\" : \", sentence)\n",
    "    sentence = re.sub(r\" e g\", \" eg \", sentence)\n",
    "    sentence = re.sub(r\" b g\", \" bg \", sentence)\n",
    "    sentence = re.sub(r\" u s \",\" american \", sentence)\n",
    "    sentence = re.sub(r\"\\0s\",\"0\", sentence)\n",
    "    sentence = re.sub(r\" 9 11 \",\"911\", sentence)\n",
    "    sentence = re.sub(r\"e - mail\",\"email\", sentence)\n",
    "    sentence = re.sub(r\"j k\",\"jk\", sentence)\n",
    "    sentence = re.sub(r\"\\s{2,}\",\" \", sentence)\n",
    "    sentence = re.sub(r'@[A-Za-z0-9]+' ,'', sentence)\n",
    "    sentence = re.sub(r'(\\w)\\1{2,}', r'\\1\\1', sentence)\n",
    "    sentence = re.sub(r'\\w(\\w)\\1{2,}', '', sentence)\n",
    "    sentence = sentence.lower()\n",
    "    \n",
    "    sentence = ' '.join([contraction_mapping[t] if t in contraction_mapping else t for t in sentence.split(\" \")])\n",
    "    sentence = ' '.join([word for word in sentence.split() if word.isalpha()])\n",
    "    sentence = ' '.join([word for word in sentence.split() if word.lower() not in Stopwords and len(word)>=3])\n",
    "    \n",
    "    sentences.append(sentence.replace('.', '').replace(',', '').replace(\"'\", \"\"))\n"
   ]
  },
  {
   "cell_type": "code",
   "execution_count": 22,
   "metadata": {},
   "outputs": [],
   "source": [
    "# Suprimer les lines qui ne contiennent pas d'information(s)\n",
    "hate_speech_df['text'] = sentences\n",
    "hate_speech_df['text'].replace('', np.nan, inplace=True)\n",
    "hate_speech_df.dropna(axis=0,inplace=True)\n"
   ]
  },
  {
   "cell_type": "code",
   "execution_count": 23,
   "metadata": {},
   "outputs": [
    {
     "data": {
      "text/plain": [
       "((10556, 3), 10556)"
      ]
     },
     "execution_count": 23,
     "metadata": {},
     "output_type": "execute_result"
    }
   ],
   "source": [
    "hate_speech_df['text'] = hate_speech_df['text'].apply(lambda x : '_START_ '+ x + ' _END_')\n",
    "text =hate_speech_df['text']\n",
    "hate_speech_df.shape, len(text)"
   ]
  },
  {
   "cell_type": "code",
   "execution_count": 24,
   "metadata": {},
   "outputs": [
    {
     "name": "stdout",
     "output_type": "stream",
     "text": [
      "Label: noHate\n",
      "Text: _START_ march booklet downloaded times counting _END_\n",
      "\n",
      "\n",
      "Label: noHate\n",
      "Text: _START_ order help increase booklets downloads would great stormfronters youtube accounts could display following text description boxes uploaded youtube videos _END_\n",
      "\n",
      "\n",
      "Label: noHate\n",
      "Text: _START_ simply copy paste following text youtube videos description boxes _END_\n",
      "\n",
      "\n",
      "Label: hate\n",
      "Text: _START_ click free download colorfully illustrated page book zionist engineered intentional destruction western civilization _END_\n",
      "\n",
      "\n",
      "Label: noHate\n",
      "Text: _START_ click download green banner link _END_\n",
      "\n",
      "\n"
     ]
    }
   ],
   "source": [
    "for i in range(5):\n",
    "    print(\"Label:\", hate_speech_df['label'][i])\n",
    "    print(\"Text:\", hate_speech_df['text'][i])\n",
    "    print(\"\\n\")"
   ]
  },
  {
   "cell_type": "markdown",
   "metadata": {},
   "source": [
    "## Understanding the distribution of the sequences"
   ]
  },
  {
   "cell_type": "code",
   "execution_count": 26,
   "metadata": {},
   "outputs": [
    {
     "data": {
      "image/png": "[encoded data removed]",
      "text/plain": [
       "<Figure size 1152x432 with 2 Axes>"
      ]
     },
     "metadata": {
      "needs_background": "light"
     },
     "output_type": "display_data"
    }
   ],
   "source": [
    "import matplotlib.pyplot as plt\n",
    "fig, ax= plt.subplots(figsize=(16, 6))\n",
    "\n",
    "plot_label = []\n",
    "Plot_text = []\n",
    "\n",
    "# populate the lists with sentence lengths\n",
    "for i in hate_speech_df['label']:\n",
    "    plot_label.append(len(i.split()))\n",
    "\n",
    "for i in hate_speech_df['text']:\n",
    "      Plot_text.append(len(i.split()))\n",
    "\n",
    "length_df = pd.DataFrame({'label':plot_label, 'text':Plot_text})\n",
    "length_df.hist(bins = 30, ax=ax)\n",
    "\n",
    "plt.show()\n"
   ]
  },
  {
   "cell_type": "code",
   "execution_count": null,
   "metadata": {},
   "outputs": [],
   "source": []
  },
  {
   "cell_type": "code",
   "execution_count": null,
   "metadata": {},
   "outputs": [],
   "source": []
  },
  {
   "cell_type": "code",
   "execution_count": 69,
   "metadata": {},
   "outputs": [],
   "source": [
    "\"\"\"from nltk.tokenize import sent_tokenize, word_tokenize\n",
    "from nltk.corpus import stopwords\n",
    "import nltk\n",
    "from nltk.tokenize import sent_tokenize, word_tokenize\n",
    "from nltk.corpus import stopwords\n",
    "stops = set(stopwords.words('english'))\n",
    "\n",
    "import atexit\n",
    "import os\n",
    "import readline\n",
    "from tkinter import *\n",
    "from keras.preprocessing.text import Tokenizer\"\"\""
   ]
  },
  {
   "cell_type": "code",
   "execution_count": 70,
   "metadata": {},
   "outputs": [
    {
     "name": "stdout",
     "output_type": "stream",
     "text": [
      "Our train and test samples have respectively 8444 and 2112 observations\n"
     ]
    }
   ],
   "source": [
    "\"\"\"from sklearn.model_selection import train_test_split\n",
    "\n",
    "X_train, X_test, y_train, y_test = train_test_split(hate_speech_df['text'],\n",
    "                                                    hate_speech_df['label'],\n",
    "                                                    test_size=0.2, random_state=0)\n",
    "\n",
    "print('Our train and test samples have respectively {} and {} observations'.format(\n",
    "    X_train.shape[0],X_test.shape[0]))\"\"\""
   ]
  },
  {
   "cell_type": "code",
   "execution_count": null,
   "metadata": {},
   "outputs": [],
   "source": []
  },
  {
   "cell_type": "code",
   "execution_count": null,
   "metadata": {},
   "outputs": [],
   "source": []
  },
  {
   "cell_type": "code",
   "execution_count": null,
   "metadata": {},
   "outputs": [],
   "source": []
  },
  {
   "cell_type": "code",
   "execution_count": 27,
   "metadata": {},
   "outputs": [],
   "source": [
    "import numpy as np\n",
    "import pandas as pd\n",
    "from scipy import spatial\n",
    "from tqdm import tqdm\n",
    "import matplotlib.image as mpimg\n",
    "import matplotlib.pyplot as plt\n",
    "import fasttext\n",
    "import tensorflow as tf\n",
    "import ot"
   ]
  },
  {
   "cell_type": "code",
   "execution_count": 28,
   "metadata": {},
   "outputs": [],
   "source": [
    "def compute_distribution(document, model):\n",
    "    distr_A = []\n",
    "    for word in model:\n",
    "        if word not in document.split(\" \"):\n",
    "            distr_A.append((word, 0))\n",
    "        else:\n",
    "            cpt = 0\n",
    "            for elt in document.split(\" \"):\n",
    "                if elt != word:\n",
    "                    pass\n",
    "                else:\n",
    "                    cpt += 1\n",
    "            distr_A.append((word, cpt))\n",
    "    cpt = 0\n",
    "    for elt in document.split(\" \"):\n",
    "        if elt not in model:\n",
    "            cpt += 1\n",
    "\n",
    "    distribution = [x[1] / float(len(document.split(\" \")) - cpt) for x in distr_A]\n",
    "\n",
    "    return distribution\n"
   ]
  },
  {
   "cell_type": "code",
   "execution_count": 29,
   "metadata": {},
   "outputs": [],
   "source": [
    "def Wasserstein_dist_OT(A, B, M, model):\n",
    "    # Wasserstein distance between documents A and B from fasttext model\n",
    "    # A and B string where words are spaced by \" \"\n",
    "    # model is an object model.words from a fasttext model, ie list of unique words in the corpus (the code below allows A and B to contain words not in model.words)\n",
    "    # X is the matrix of word embeddings from fasttext\n",
    "\n",
    "    # Compute a the distribution of words in A\n",
    "    a = compute_distribution(A, model)\n",
    "\n",
    "    # Compute b the distribution of words in B\n",
    "    b = compute_distribution(B, model)\n",
    "\n",
    "    # solve OT problem with Python OT module\n",
    "    Wd = ot.emd2(a, b, M)  # this is the exact linear program\n",
    "    return (Wd)\n"
   ]
  },
  {
   "cell_type": "code",
   "execution_count": 30,
   "metadata": {},
   "outputs": [],
   "source": [
    "def Sinkhorn_dist_OT(A, B, M, reg, model):\n",
    "    # Wasserstein distance between documents A and B from fasttext model\n",
    "    # A and B string where words are spaced by \" \"\n",
    "    # model is an object model.words from a fasttext model, ie list of unique words in the corpus (the code below allows A and B to contain words not in model.words)\n",
    "    # X is the matrix of word embeddings from fasttext\n",
    "\n",
    "    # Compute a the distribution of words in A\n",
    "    a = compute_distribution(A, model)\n",
    "\n",
    "    # Compute b the distribution of words in B\n",
    "    b = compute_distribution(B, model)\n",
    "\n",
    "    # solve OT problem with Python OT module\n",
    "    Wd = ot.sinkhorn(a, b, M, reg)  # this is the exact linear program\n",
    "    return (Wd)\n"
   ]
  },
  {
   "cell_type": "code",
   "execution_count": 31,
   "metadata": {},
   "outputs": [],
   "source": [
    "def fancy_dendrogram(*args, **kwargs):\n",
    "    max_d = kwargs.pop('max_d', None)\n",
    "    if max_d and 'color_threshold' not in kwargs:\n",
    "        kwargs['color_threshold'] = max_d\n",
    "    annotate_above = kwargs.pop('annotate_above', 0)\n",
    "\n",
    "    ddata = dendrogram(*args, **kwargs)\n",
    "\n",
    "    if not kwargs.get('no_plot', False):\n",
    "        plt.title('Hierarchical Clustering Dendrogram (truncated)')\n",
    "        plt.xlabel('sample index or (cluster size)')\n",
    "        plt.ylabel('distance')\n",
    "        for i, d, c in zip(ddata['icoord'], ddata['dcoord'], ddata['color_list']):\n",
    "            x = 0.5 * sum(i[1:3])\n",
    "            y = d[1]\n",
    "            if y > annotate_above:\n",
    "                plt.plot(x, y, 'o', c=c)\n",
    "                plt.annotate(\"%.3g\" % y, (x, y), xytext=(0, -5),\n",
    "                             textcoords='offset points',\n",
    "                             va='top', ha='center')\n",
    "        if max_d:\n",
    "            \n",
    "            plt.axhline(y=max_d, c='k')\n",
    "    return ddata\n"
   ]
  },
  {
   "cell_type": "code",
   "execution_count": 32,
   "metadata": {},
   "outputs": [],
   "source": [
    "def write_excel(df, out='df_out.xlsx', idx=False):\n",
    "    \"\"\"\n",
    "    exports a Dataframe as excel file\n",
    "    :param df: Dataframe to export\n",
    "    :param out: excel file to save\n",
    "    :param idx: if False, the index column is not saved\n",
    "    :return: nothing\n",
    "    \"\"\"\n",
    "    writer = pd.ExcelWriter(out, engine='xlsxwriter', options={'strings_to_urls': False})\n",
    "    df.to_excel(writer, index=idx)\n",
    "    writer.save()\n",
    "    writer.close()\n"
   ]
  },
  {
   "cell_type": "code",
   "execution_count": 33,
   "metadata": {},
   "outputs": [
    {
     "name": "stdout",
     "output_type": "stream",
     "text": [
      "Start FastText training...\n",
      "FastText training done !\n"
     ]
    }
   ],
   "source": [
    "# Fasttext training from scratch\n",
    "n = len(text) # size of training\n",
    "\n",
    "text.to_csv('corpus.txt', index=False, header=False) # csv for training fasttext\n",
    "print('Start FastText training...')\n",
    "\n",
    "model = fasttext.train_unsupervised(\"corpus.txt\", model='cbow')\n",
    "print('FastText training done !')\n",
    "\n",
    "model.save_model(\"model.bin\")\n"
   ]
  },
  {
   "cell_type": "code",
   "execution_count": 34,
   "metadata": {},
   "outputs": [],
   "source": [
    "# dictionnary of embedding vectors :key = word and values = vector\n",
    "embedding = {}\n",
    "for w in model.words:\n",
    "    embedding[w] = model[w]\n"
   ]
  },
  {
   "cell_type": "code",
   "execution_count": 35,
   "metadata": {},
   "outputs": [],
   "source": [
    "emb_df = pd.DataFrame.from_dict(embedding)\n",
    "file_out = 'embeddings.xlsx'\n",
    "write_excel(emb_df.transpose(), out=file_out, idx=True)\n"
   ]
  },
  {
   "cell_type": "code",
   "execution_count": 36,
   "metadata": {},
   "outputs": [
    {
     "data": {
      "text/html": [
       "<div>\n",
       "<style scoped>\n",
       "    .dataframe tbody tr th:only-of-type {\n",
       "        vertical-align: middle;\n",
       "    }\n",
       "\n",
       "    .dataframe tbody tr th {\n",
       "        vertical-align: top;\n",
       "    }\n",
       "\n",
       "    .dataframe thead th {\n",
       "        text-align: right;\n",
       "    }\n",
       "</style>\n",
       "<table border=\"1\" class=\"dataframe\">\n",
       "  <thead>\n",
       "    <tr style=\"text-align: right;\">\n",
       "      <th></th>\n",
       "      <th>_START_</th>\n",
       "      <th>_END_</th>\n",
       "      <th>&lt;/s&gt;</th>\n",
       "      <th>white</th>\n",
       "      <th>like</th>\n",
       "      <th>people</th>\n",
       "      <th>one</th>\n",
       "      <th>would</th>\n",
       "      <th>get</th>\n",
       "      <th>youtube</th>\n",
       "      <th>...</th>\n",
       "      <th>lee</th>\n",
       "      <th>derren</th>\n",
       "      <th>assassin</th>\n",
       "      <th>motorcycle</th>\n",
       "      <th>serbia</th>\n",
       "      <th>forces</th>\n",
       "      <th>grammar</th>\n",
       "      <th>fairly</th>\n",
       "      <th>goverment</th>\n",
       "      <th>organizations</th>\n",
       "    </tr>\n",
       "  </thead>\n",
       "  <tbody>\n",
       "    <tr>\n",
       "      <th>0</th>\n",
       "      <td>-0.195662</td>\n",
       "      <td>-0.187533</td>\n",
       "      <td>-0.209837</td>\n",
       "      <td>-0.216218</td>\n",
       "      <td>-0.200612</td>\n",
       "      <td>-0.203405</td>\n",
       "      <td>-0.232055</td>\n",
       "      <td>-0.191751</td>\n",
       "      <td>-0.240920</td>\n",
       "      <td>-0.202528</td>\n",
       "      <td>...</td>\n",
       "      <td>-0.137712</td>\n",
       "      <td>-0.175137</td>\n",
       "      <td>-0.141317</td>\n",
       "      <td>-0.123521</td>\n",
       "      <td>-0.132436</td>\n",
       "      <td>-0.210690</td>\n",
       "      <td>-0.126167</td>\n",
       "      <td>-0.185177</td>\n",
       "      <td>-0.184130</td>\n",
       "      <td>-0.187515</td>\n",
       "    </tr>\n",
       "    <tr>\n",
       "      <th>1</th>\n",
       "      <td>-0.188015</td>\n",
       "      <td>-0.184522</td>\n",
       "      <td>-0.217309</td>\n",
       "      <td>-0.192430</td>\n",
       "      <td>-0.193015</td>\n",
       "      <td>-0.189302</td>\n",
       "      <td>-0.224321</td>\n",
       "      <td>-0.185145</td>\n",
       "      <td>-0.225539</td>\n",
       "      <td>-0.192239</td>\n",
       "      <td>...</td>\n",
       "      <td>-0.132265</td>\n",
       "      <td>-0.167734</td>\n",
       "      <td>-0.132162</td>\n",
       "      <td>-0.118536</td>\n",
       "      <td>-0.127448</td>\n",
       "      <td>-0.199912</td>\n",
       "      <td>-0.119144</td>\n",
       "      <td>-0.177612</td>\n",
       "      <td>-0.169682</td>\n",
       "      <td>-0.172875</td>\n",
       "    </tr>\n",
       "    <tr>\n",
       "      <th>2</th>\n",
       "      <td>-0.253379</td>\n",
       "      <td>-0.244515</td>\n",
       "      <td>-0.283417</td>\n",
       "      <td>-0.275594</td>\n",
       "      <td>-0.259830</td>\n",
       "      <td>-0.261412</td>\n",
       "      <td>-0.305334</td>\n",
       "      <td>-0.250637</td>\n",
       "      <td>-0.306460</td>\n",
       "      <td>-0.259753</td>\n",
       "      <td>...</td>\n",
       "      <td>-0.180937</td>\n",
       "      <td>-0.228343</td>\n",
       "      <td>-0.177194</td>\n",
       "      <td>-0.160049</td>\n",
       "      <td>-0.171292</td>\n",
       "      <td>-0.275525</td>\n",
       "      <td>-0.162833</td>\n",
       "      <td>-0.237205</td>\n",
       "      <td>-0.235756</td>\n",
       "      <td>-0.240746</td>\n",
       "    </tr>\n",
       "    <tr>\n",
       "      <th>3</th>\n",
       "      <td>-0.300109</td>\n",
       "      <td>-0.294591</td>\n",
       "      <td>-0.336304</td>\n",
       "      <td>-0.317308</td>\n",
       "      <td>-0.306327</td>\n",
       "      <td>-0.305097</td>\n",
       "      <td>-0.360208</td>\n",
       "      <td>-0.295704</td>\n",
       "      <td>-0.366999</td>\n",
       "      <td>-0.305740</td>\n",
       "      <td>...</td>\n",
       "      <td>-0.211382</td>\n",
       "      <td>-0.264373</td>\n",
       "      <td>-0.212172</td>\n",
       "      <td>-0.191157</td>\n",
       "      <td>-0.204018</td>\n",
       "      <td>-0.318829</td>\n",
       "      <td>-0.192456</td>\n",
       "      <td>-0.282064</td>\n",
       "      <td>-0.276494</td>\n",
       "      <td>-0.282865</td>\n",
       "    </tr>\n",
       "    <tr>\n",
       "      <th>4</th>\n",
       "      <td>-0.277045</td>\n",
       "      <td>-0.273632</td>\n",
       "      <td>-0.309296</td>\n",
       "      <td>-0.295997</td>\n",
       "      <td>-0.286099</td>\n",
       "      <td>-0.283323</td>\n",
       "      <td>-0.340883</td>\n",
       "      <td>-0.274093</td>\n",
       "      <td>-0.338166</td>\n",
       "      <td>-0.287141</td>\n",
       "      <td>...</td>\n",
       "      <td>-0.195371</td>\n",
       "      <td>-0.250218</td>\n",
       "      <td>-0.195212</td>\n",
       "      <td>-0.178292</td>\n",
       "      <td>-0.189052</td>\n",
       "      <td>-0.298659</td>\n",
       "      <td>-0.180708</td>\n",
       "      <td>-0.260988</td>\n",
       "      <td>-0.255161</td>\n",
       "      <td>-0.259920</td>\n",
       "    </tr>\n",
       "  </tbody>\n",
       "</table>\n",
       "<p>5 rows × 2922 columns</p>\n",
       "</div>"
      ],
      "text/plain": [
       "    _START_     _END_      </s>     white      like    people       one  \\\n",
       "0 -0.195662 -0.187533 -0.209837 -0.216218 -0.200612 -0.203405 -0.232055   \n",
       "1 -0.188015 -0.184522 -0.217309 -0.192430 -0.193015 -0.189302 -0.224321   \n",
       "2 -0.253379 -0.244515 -0.283417 -0.275594 -0.259830 -0.261412 -0.305334   \n",
       "3 -0.300109 -0.294591 -0.336304 -0.317308 -0.306327 -0.305097 -0.360208   \n",
       "4 -0.277045 -0.273632 -0.309296 -0.295997 -0.286099 -0.283323 -0.340883   \n",
       "\n",
       "      would       get   youtube  ...       lee    derren  assassin  \\\n",
       "0 -0.191751 -0.240920 -0.202528  ... -0.137712 -0.175137 -0.141317   \n",
       "1 -0.185145 -0.225539 -0.192239  ... -0.132265 -0.167734 -0.132162   \n",
       "2 -0.250637 -0.306460 -0.259753  ... -0.180937 -0.228343 -0.177194   \n",
       "3 -0.295704 -0.366999 -0.305740  ... -0.211382 -0.264373 -0.212172   \n",
       "4 -0.274093 -0.338166 -0.287141  ... -0.195371 -0.250218 -0.195212   \n",
       "\n",
       "   motorcycle    serbia    forces   grammar    fairly  goverment  \\\n",
       "0   -0.123521 -0.132436 -0.210690 -0.126167 -0.185177  -0.184130   \n",
       "1   -0.118536 -0.127448 -0.199912 -0.119144 -0.177612  -0.169682   \n",
       "2   -0.160049 -0.171292 -0.275525 -0.162833 -0.237205  -0.235756   \n",
       "3   -0.191157 -0.204018 -0.318829 -0.192456 -0.282064  -0.276494   \n",
       "4   -0.178292 -0.189052 -0.298659 -0.180708 -0.260988  -0.255161   \n",
       "\n",
       "   organizations  \n",
       "0      -0.187515  \n",
       "1      -0.172875  \n",
       "2      -0.240746  \n",
       "3      -0.282865  \n",
       "4      -0.259920  \n",
       "\n",
       "[5 rows x 2922 columns]"
      ]
     },
     "execution_count": 36,
     "metadata": {},
     "output_type": "execute_result"
    }
   ],
   "source": [
    "emb_df.head()"
   ]
  },
  {
   "cell_type": "code",
   "execution_count": 37,
   "metadata": {},
   "outputs": [],
   "source": [
    "# words embedding matrix\n",
    "X = np.array([x.tolist() for x in embedding.values() if x.shape[0] != 1])\n"
   ]
  },
  {
   "cell_type": "code",
   "execution_count": 38,
   "metadata": {},
   "outputs": [
    {
     "name": "stdout",
     "output_type": "stream",
     "text": [
      "Start coast matrix calculus\n",
      "Coast matrix calculated\n"
     ]
    }
   ],
   "source": [
    "# Coast matrix calculus (distances between words)\n",
    "print('Start coast matrix calculus')\n",
    "C_light = spatial.distance.pdist(X) # condensed list of length n*(n-1)/2 of distances between the n words wi and wj, i smaller than j\n",
    "dim = len(model.words)\n",
    "vals = C_light\n",
    "Z = np.zeros([dim,dim], dtype=np.double)\n",
    "Z[np.triu_indices(dim, k=1)] = vals\n",
    "Z = Z + Z.T\n",
    "Z[np.diag_indices(dim)] = 0\n",
    "\n",
    "distance = Z\n",
    "print('Coast matrix calculated')\n",
    "M = np.array(distance)\n"
   ]
  },
  {
   "cell_type": "code",
   "execution_count": 39,
   "metadata": {},
   "outputs": [
    {
     "name": "stderr",
     "output_type": "stream",
     "text": [
      "100%|██████████| 10556/10556 [00:48<00:00, 219.75it/s]\n"
     ]
    }
   ],
   "source": [
    "# histograms for each document (4 minutes for 6532 docs)\n",
    "try:\n",
    "    docs_histogs = []\n",
    "    for doc in tqdm(text, total=text.shape[0]):\n",
    "        docs_histogs.append(compute_distribution(doc, model.words))\n",
    "except ZeroDivisionError:\n",
    "    pass"
   ]
  },
  {
   "cell_type": "code",
   "execution_count": 40,
   "metadata": {},
   "outputs": [],
   "source": [
    "# distance between 2 documents\n",
    "a = docs_histogs[0]\n",
    "b = docs_histogs[1]\n",
    "Wd = ot.emd2(a, b, M)  # this is the exact linear program\n"
   ]
  },
  {
   "cell_type": "code",
   "execution_count": 41,
   "metadata": {},
   "outputs": [
    {
     "data": {
      "text/plain": [
       "'####################################################################################################\\n# compute the WMD matrix from the set of documents in the train\\nm = 100 # small matrix size for testing\\nres = [[Wasserstein_dist_OT(x, y, M, model.words) for x in tqdm(hate_speech_df.iloc[:m, -1])] for y in hate_speech_df.iloc[:m, -1]]\\nD = np.array(res)\\n\\n#m = 10 # small matrix size for testing\\n#reg = 1\\n#res = [[Sinkhorn_dist_OT(x, y, M, reg, model.words) for x in tqdm(hate_speech_df.iloc[:m, 1])] for y in hate_speech_df.iloc[:m, 1]]\\n#D = np.array(res)\\n'"
      ]
     },
     "execution_count": 41,
     "metadata": {},
     "output_type": "execute_result"
    }
   ],
   "source": [
    "\"\"\"####################################################################################################\n",
    "# compute the WMD matrix from the set of documents in the train\n",
    "m = 100 # small matrix size for testing\n",
    "res = [[Wasserstein_dist_OT(x, y, M, model.words) for x in tqdm(hate_speech_df.iloc[:m, -1])] for y in hate_speech_df.iloc[:m, -1]]\n",
    "D = np.array(res)\n",
    "\n",
    "#m = 10 # small matrix size for testing\n",
    "#reg = 1\n",
    "#res = [[Sinkhorn_dist_OT(x, y, M, reg, model.words) for x in tqdm(hate_speech_df.iloc[:m, 1])] for y in hate_speech_df.iloc[:m, 1]]\n",
    "#D = np.array(res)\n",
    "\"\"\""
   ]
  },
  {
   "cell_type": "code",
   "execution_count": 42,
   "metadata": {},
   "outputs": [
    {
     "name": "stderr",
     "output_type": "stream",
     "text": [
      "100%|██████████| 100/100 [00:01<00:00, 55.48it/s]\n",
      "100%|██████████| 99/99 [00:02<00:00, 47.02it/s]\n",
      "100%|██████████| 98/98 [00:01<00:00, 54.74it/s]\n",
      "100%|██████████| 97/97 [00:01<00:00, 51.30it/s]\n",
      "100%|██████████| 96/96 [00:01<00:00, 57.96it/s]\n",
      "100%|██████████| 95/95 [00:01<00:00, 57.51it/s]\n",
      "100%|██████████| 94/94 [00:01<00:00, 59.36it/s]\n",
      "100%|██████████| 93/93 [00:02<00:00, 39.08it/s]\n",
      "100%|██████████| 92/92 [00:01<00:00, 51.51it/s]\n",
      "100%|██████████| 91/91 [00:02<00:00, 44.97it/s]\n",
      "100%|██████████| 90/90 [00:01<00:00, 47.96it/s]\n",
      "100%|██████████| 89/89 [00:01<00:00, 57.01it/s]\n",
      "100%|██████████| 88/88 [00:01<00:00, 56.84it/s]\n",
      "100%|██████████| 87/87 [00:01<00:00, 57.24it/s]\n",
      "100%|██████████| 86/86 [00:01<00:00, 61.01it/s]\n",
      "100%|██████████| 85/85 [00:01<00:00, 60.28it/s]\n",
      "100%|██████████| 84/84 [00:01<00:00, 56.10it/s]\n",
      "100%|██████████| 83/83 [00:01<00:00, 59.19it/s]\n",
      "100%|██████████| 82/82 [00:01<00:00, 52.30it/s]\n",
      "100%|██████████| 81/81 [00:01<00:00, 57.27it/s]\n",
      "100%|██████████| 80/80 [00:01<00:00, 56.17it/s]\n",
      "100%|██████████| 79/79 [00:01<00:00, 46.05it/s]\n",
      "100%|██████████| 78/78 [00:01<00:00, 53.16it/s]\n",
      "100%|██████████| 77/77 [00:01<00:00, 57.39it/s]\n",
      "100%|██████████| 76/76 [00:01<00:00, 49.32it/s]\n",
      "100%|██████████| 75/75 [00:01<00:00, 55.42it/s]\n",
      "100%|██████████| 74/74 [00:01<00:00, 50.57it/s]\n",
      "100%|██████████| 73/73 [00:01<00:00, 54.81it/s]\n",
      "100%|██████████| 72/72 [00:01<00:00, 54.09it/s]\n",
      "100%|██████████| 71/71 [00:01<00:00, 54.63it/s]\n",
      "100%|██████████| 70/70 [00:01<00:00, 57.70it/s]\n",
      "100%|██████████| 69/69 [00:01<00:00, 49.81it/s]\n",
      "100%|██████████| 68/68 [00:01<00:00, 51.96it/s]\n",
      "100%|██████████| 67/67 [00:01<00:00, 55.71it/s]\n",
      "100%|██████████| 66/66 [00:01<00:00, 55.11it/s]\n",
      "100%|██████████| 65/65 [00:01<00:00, 54.38it/s]\n",
      "100%|██████████| 64/64 [00:01<00:00, 54.97it/s]\n",
      "100%|██████████| 63/63 [00:01<00:00, 50.16it/s]\n",
      "100%|██████████| 62/62 [00:01<00:00, 50.55it/s]\n",
      "100%|██████████| 61/61 [00:01<00:00, 55.15it/s]\n",
      "100%|██████████| 60/60 [00:01<00:00, 56.48it/s]\n",
      "100%|██████████| 59/59 [00:01<00:00, 54.71it/s]\n",
      "100%|██████████| 58/58 [00:01<00:00, 49.21it/s]\n",
      "100%|██████████| 57/57 [00:01<00:00, 48.52it/s]\n",
      "100%|██████████| 56/56 [00:00<00:00, 60.35it/s]\n",
      "100%|██████████| 55/55 [00:00<00:00, 56.66it/s]\n",
      "100%|██████████| 54/54 [00:00<00:00, 60.14it/s]\n",
      "100%|██████████| 53/53 [00:01<00:00, 51.52it/s]\n",
      "100%|██████████| 52/52 [00:00<00:00, 54.41it/s]\n",
      "100%|██████████| 51/51 [00:00<00:00, 55.15it/s]\n",
      "100%|██████████| 50/50 [00:00<00:00, 56.45it/s]\n",
      "100%|██████████| 49/49 [00:00<00:00, 56.14it/s]\n",
      "100%|██████████| 48/48 [00:00<00:00, 50.95it/s]\n",
      "100%|██████████| 47/47 [00:00<00:00, 61.03it/s]\n",
      "100%|██████████| 46/46 [00:00<00:00, 58.37it/s]\n",
      "100%|██████████| 45/45 [00:00<00:00, 57.26it/s]\n",
      "100%|██████████| 44/44 [00:00<00:00, 59.78it/s]\n",
      "100%|██████████| 43/43 [00:00<00:00, 58.79it/s]\n",
      "100%|██████████| 42/42 [00:00<00:00, 55.76it/s]\n",
      "100%|██████████| 41/41 [00:00<00:00, 50.11it/s]\n",
      "100%|██████████| 40/40 [00:00<00:00, 59.16it/s]\n",
      "100%|██████████| 39/39 [00:00<00:00, 56.33it/s]\n",
      "100%|██████████| 38/38 [00:00<00:00, 46.75it/s]\n",
      "100%|██████████| 37/37 [00:00<00:00, 56.11it/s]\n",
      "100%|██████████| 36/36 [00:00<00:00, 58.60it/s]\n",
      "100%|██████████| 35/35 [00:00<00:00, 51.77it/s]\n",
      "100%|██████████| 34/34 [00:00<00:00, 57.17it/s]\n",
      "100%|██████████| 33/33 [00:00<00:00, 58.11it/s]\n",
      "100%|██████████| 32/32 [00:00<00:00, 58.10it/s]\n",
      "100%|██████████| 31/31 [00:00<00:00, 59.59it/s]\n",
      "100%|██████████| 30/30 [00:00<00:00, 47.69it/s]\n",
      "100%|██████████| 29/29 [00:00<00:00, 55.07it/s]\n",
      "100%|██████████| 28/28 [00:00<00:00, 58.59it/s]\n",
      "100%|██████████| 27/27 [00:00<00:00, 56.37it/s]\n",
      "100%|██████████| 26/26 [00:00<00:00, 51.55it/s]\n",
      "100%|██████████| 25/25 [00:00<00:00, 59.54it/s]\n",
      "100%|██████████| 24/24 [00:00<00:00, 57.90it/s]\n",
      "100%|██████████| 23/23 [00:00<00:00, 55.37it/s]\n",
      "100%|██████████| 22/22 [00:00<00:00, 51.60it/s]\n",
      "100%|██████████| 21/21 [00:00<00:00, 51.68it/s]\n",
      "100%|██████████| 20/20 [00:00<00:00, 57.74it/s]\n",
      "100%|██████████| 19/19 [00:00<00:00, 57.16it/s]\n",
      "100%|██████████| 18/18 [00:00<00:00, 54.61it/s]\n",
      "100%|██████████| 17/17 [00:00<00:00, 48.36it/s]\n",
      "100%|██████████| 16/16 [00:00<00:00, 56.47it/s]\n",
      "100%|██████████| 15/15 [00:00<00:00, 37.58it/s]\n",
      "100%|██████████| 14/14 [00:00<00:00, 45.63it/s]\n",
      "100%|██████████| 13/13 [00:00<00:00, 48.91it/s]\n",
      "100%|██████████| 12/12 [00:00<00:00, 42.41it/s]\n",
      "100%|██████████| 11/11 [00:00<00:00, 47.66it/s]\n",
      "100%|██████████| 10/10 [00:00<00:00, 50.18it/s]\n",
      "100%|██████████| 9/9 [00:00<00:00, 54.82it/s]\n",
      "100%|██████████| 8/8 [00:00<00:00, 47.72it/s]\n",
      "100%|██████████| 7/7 [00:00<00:00, 43.22it/s]\n",
      "100%|██████████| 6/6 [00:00<00:00, 44.35it/s]\n",
      "100%|██████████| 5/5 [00:00<00:00, 52.04it/s]\n",
      "100%|██████████| 4/4 [00:00<00:00, 44.62it/s]\n",
      "100%|██████████| 3/3 [00:00<00:00, 49.11it/s]\n",
      "100%|██████████| 2/2 [00:00<00:00, 51.13it/s]\n",
      "100%|██████████| 1/1 [00:00<00:00, 41.01it/s]\n"
     ]
    }
   ],
   "source": [
    "m = 100\n",
    "res = [] # Matrix triangulaire\n",
    "i = 0\n",
    "for x in hate_speech_df.iloc[:m, 1]:\n",
    "    for y in tqdm(hate_speech_df.iloc[i:m, 1]):\n",
    "        res.append(Wasserstein_dist_OT(x, y, M, model.words))\n",
    "    i = i + 1"
   ]
  },
  {
   "cell_type": "code",
   "execution_count": 49,
   "metadata": {},
   "outputs": [],
   "source": [
    "####################################################################################################\n",
    "# Plotting dendogram\n",
    "from scipy.cluster.hierarchy import dendrogram, linkage\n",
    "from matplotlib import pyplot as plt\n"
   ]
  },
  {
   "cell_type": "code",
   "execution_count": 50,
   "metadata": {},
   "outputs": [],
   "source": [
    "linked = linkage(res, 'ward')\n",
    "labelList = range(len(res))\n"
   ]
  },
  {
   "cell_type": "code",
   "execution_count": 51,
   "metadata": {},
   "outputs": [
    {
     "data": {
      "image/png": "[encoded data removed]",
      "text/plain": [
       "<Figure size 864x432 with 1 Axes>"
      ]
     },
     "metadata": {
      "needs_background": "light"
     },
     "output_type": "display_data"
    }
   ],
   "source": [
    "# plt.figure(figsize=(10, 7))\n",
    "# dendrogram(linked, orientation='top', labels=labelList, distance_sort='descending', show_leaf_counts=True)\n",
    "# plt.savefig(pwd + 'Dendo.png')\n",
    "# plt.show()\n",
    "\n",
    "plt.figure(figsize=(12, 6))\n",
    "plt.grid(which='both', axis='y')\n",
    "fancy_dendrogram(\n",
    "    linked,\n",
    "    truncate_mode='lastp',\n",
    "    p=30,\n",
    "    leaf_rotation=90.,\n",
    "    leaf_font_size=8.,\n",
    "    show_contracted=True,\n",
    "    annotate_above=8,\n",
    "    max_d=9.5,\n",
    ")\n",
    "#plt.savefig(pwd + 'Dendo.png')\n",
    "plt.show()"
   ]
  },
  {
   "cell_type": "code",
   "execution_count": 52,
   "metadata": {},
   "outputs": [
    {
     "data": {
      "image/png": "[encoded data removed]",
      "text/plain": [
       "<Figure size 864x432 with 1 Axes>"
      ]
     },
     "metadata": {
      "needs_background": "light"
     },
     "output_type": "display_data"
    }
   ],
   "source": [
    "import scipy.cluster.hierarchy as shc\n",
    "plt.figure(figsize=(12, 6))\n",
    "\n",
    "plt.title(\"Customer Dendograms\")\n",
    "dend = shc.dendrogram(linked)\n",
    "plt.plot([linked.min(), 50000],[0.6, 0.6], c='r', linewidth=7)\n",
    "plt.title('Hierarchical Clustering Dendogram', fontsize=27)\n",
    "plt.xlabel('Cluster size', fontsize=16); plt.ylabel('Distance', fontsize=16)\n",
    "plt.show()"
   ]
  },
  {
   "cell_type": "code",
   "execution_count": 72,
   "metadata": {},
   "outputs": [
    {
     "data": {
      "text/plain": [
       "array([0, 0, 0, 2, 0, 2, 0, 0, 2, 0, 2, 0, 0, 2, 2, 0, 0, 0, 0, 0, 0, 0,\n",
       "       0, 0, 0, 2, 0, 2, 2, 2, 0, 0, 0, 2, 2, 2, 0, 0, 0, 2, 0, 0, 2, 2,\n",
       "       0, 2, 2, 2, 2, 2, 2, 3, 2, 0, 3, 2, 3, 3, 2, 3, 3, 2, 3, 3, 3, 3,\n",
       "       3, 3, 3, 3, 3, 3, 3, 1, 1, 3, 1, 1, 3, 3, 3, 1, 3, 1, 3, 3, 1, 1,\n",
       "       1, 1, 1, 1, 1, 1, 1, 1, 1, 1, 1, 1])"
      ]
     },
     "execution_count": 72,
     "metadata": {},
     "output_type": "execute_result"
    }
   ],
   "source": [
    "from sklearn.cluster import AgglomerativeClustering\n",
    "\n",
    "cluster = AgglomerativeClustering(n_clusters=4, affinity='euclidean', linkage='ward')\n",
    "cluster.fit_predict(linked)"
   ]
  },
  {
   "cell_type": "code",
   "execution_count": 73,
   "metadata": {},
   "outputs": [
    {
     "data": {
      "image/png": "[encoded data removed]",
      "text/plain": [
       "<Figure size 864x576 with 1 Axes>"
      ]
     },
     "metadata": {
      "needs_background": "light"
     },
     "output_type": "display_data"
    }
   ],
   "source": [
    "plt.figure(figsize=(12, 8))\n",
    "\n",
    "plt.scatter(linked[:,0], linked[:,1], c=cluster.labels_, cmap='rainbow')\n",
    "plt.show()"
   ]
  },
  {
   "cell_type": "code",
   "execution_count": 74,
   "metadata": {},
   "outputs": [],
   "source": [
    "cluste_df = hate_speech_df.iloc[:m, :].copy()\n",
    "cluste_df['cluster'] = cluster.fit_predict(linked).copy()"
   ]
  },
  {
   "cell_type": "code",
   "execution_count": 75,
   "metadata": {},
   "outputs": [
    {
     "data": {
      "text/html": [
       "<div>\n",
       "<style scoped>\n",
       "    .dataframe tbody tr th:only-of-type {\n",
       "        vertical-align: middle;\n",
       "    }\n",
       "\n",
       "    .dataframe tbody tr th {\n",
       "        vertical-align: top;\n",
       "    }\n",
       "\n",
       "    .dataframe thead th {\n",
       "        text-align: right;\n",
       "    }\n",
       "</style>\n",
       "<table border=\"1\" class=\"dataframe\">\n",
       "  <thead>\n",
       "    <tr style=\"text-align: right;\">\n",
       "      <th></th>\n",
       "      <th>label</th>\n",
       "      <th>text</th>\n",
       "      <th>text_orginal</th>\n",
       "      <th>cluster</th>\n",
       "    </tr>\n",
       "  </thead>\n",
       "  <tbody>\n",
       "    <tr>\n",
       "      <th>0</th>\n",
       "      <td>noHate</td>\n",
       "      <td>_START_ march booklet downloaded times countin...</td>\n",
       "      <td>As of March 13th , 2014 , the booklet had been...</td>\n",
       "      <td>0</td>\n",
       "    </tr>\n",
       "    <tr>\n",
       "      <th>1</th>\n",
       "      <td>noHate</td>\n",
       "      <td>_START_ order help increase booklets downloads...</td>\n",
       "      <td>In order to help increase the booklets downloa...</td>\n",
       "      <td>0</td>\n",
       "    </tr>\n",
       "    <tr>\n",
       "      <th>2</th>\n",
       "      <td>noHate</td>\n",
       "      <td>_START_ simply copy paste following text youtu...</td>\n",
       "      <td>( Simply copy and paste the following text int...</td>\n",
       "      <td>0</td>\n",
       "    </tr>\n",
       "    <tr>\n",
       "      <th>3</th>\n",
       "      <td>hate</td>\n",
       "      <td>_START_ click free download colorfully illustr...</td>\n",
       "      <td>Click below for a FREE download of a colorfull...</td>\n",
       "      <td>2</td>\n",
       "    </tr>\n",
       "    <tr>\n",
       "      <th>4</th>\n",
       "      <td>noHate</td>\n",
       "      <td>_START_ click download green banner link _END_</td>\n",
       "      <td>Click on the `` DOWNLOAD ( 7.42 MB ) '' green ...</td>\n",
       "      <td>0</td>\n",
       "    </tr>\n",
       "    <tr>\n",
       "      <th>5</th>\n",
       "      <td>noHate</td>\n",
       "      <td>_START_ booklet updated feb _END_</td>\n",
       "      <td>Booklet updated on Feb. 14th , 2014 .</td>\n",
       "      <td>2</td>\n",
       "    </tr>\n",
       "    <tr>\n",
       "      <th>6</th>\n",
       "      <td>noHate</td>\n",
       "      <td>_START_ downloads _END_</td>\n",
       "      <td>( Now with over 18,300 Downloads. )</td>\n",
       "      <td>0</td>\n",
       "    </tr>\n",
       "    <tr>\n",
       "      <th>7</th>\n",
       "      <td>noHate</td>\n",
       "      <td>_START_ pdf file urlhere docx watch hour video...</td>\n",
       "      <td>PDF file : http://www.mediafire.com/download/7...</td>\n",
       "      <td>0</td>\n",
       "    </tr>\n",
       "    <tr>\n",
       "      <th>8</th>\n",
       "      <td>noHate</td>\n",
       "      <td>_START_ simply copy text links paste descripti...</td>\n",
       "      <td>Then why not simply copy this text ( &amp; links )...</td>\n",
       "      <td>2</td>\n",
       "    </tr>\n",
       "    <tr>\n",
       "      <th>9</th>\n",
       "      <td>noHate</td>\n",
       "      <td>_START_ thank advance download youtube descrip...</td>\n",
       "      <td>Thank you in advance. : ) Download the youtube...</td>\n",
       "      <td>0</td>\n",
       "    </tr>\n",
       "  </tbody>\n",
       "</table>\n",
       "</div>"
      ],
      "text/plain": [
       "    label                                               text  \\\n",
       "0  noHate  _START_ march booklet downloaded times countin...   \n",
       "1  noHate  _START_ order help increase booklets downloads...   \n",
       "2  noHate  _START_ simply copy paste following text youtu...   \n",
       "3    hate  _START_ click free download colorfully illustr...   \n",
       "4  noHate     _START_ click download green banner link _END_   \n",
       "5  noHate                  _START_ booklet updated feb _END_   \n",
       "6  noHate                            _START_ downloads _END_   \n",
       "7  noHate  _START_ pdf file urlhere docx watch hour video...   \n",
       "8  noHate  _START_ simply copy text links paste descripti...   \n",
       "9  noHate  _START_ thank advance download youtube descrip...   \n",
       "\n",
       "                                        text_orginal  cluster  \n",
       "0  As of March 13th , 2014 , the booklet had been...        0  \n",
       "1  In order to help increase the booklets downloa...        0  \n",
       "2  ( Simply copy and paste the following text int...        0  \n",
       "3  Click below for a FREE download of a colorfull...        2  \n",
       "4  Click on the `` DOWNLOAD ( 7.42 MB ) '' green ...        0  \n",
       "5              Booklet updated on Feb. 14th , 2014 .        2  \n",
       "6                ( Now with over 18,300 Downloads. )        0  \n",
       "7  PDF file : http://www.mediafire.com/download/7...        0  \n",
       "8  Then why not simply copy this text ( & links )...        2  \n",
       "9  Thank you in advance. : ) Download the youtube...        0  "
      ]
     },
     "execution_count": 75,
     "metadata": {},
     "output_type": "execute_result"
    }
   ],
   "source": [
    "cluste_df.head(10)"
   ]
  },
  {
   "cell_type": "code",
   "execution_count": 76,
   "metadata": {},
   "outputs": [
    {
     "data": {
      "text/plain": [
       "'Click below for a FREE download of a colorfully illustrated 132 page e-book on the Zionist-engineered INTENTIONAL destruction of Western civilization .'"
      ]
     },
     "execution_count": 76,
     "metadata": {},
     "output_type": "execute_result"
    }
   ],
   "source": [
    "cluste_df['text_orginal'][3]"
   ]
  },
  {
   "cell_type": "code",
   "execution_count": 77,
   "metadata": {},
   "outputs": [
    {
     "data": {
      "text/html": [
       "<div>\n",
       "<style scoped>\n",
       "    .dataframe tbody tr th:only-of-type {\n",
       "        vertical-align: middle;\n",
       "    }\n",
       "\n",
       "    .dataframe tbody tr th {\n",
       "        vertical-align: top;\n",
       "    }\n",
       "\n",
       "    .dataframe thead th {\n",
       "        text-align: right;\n",
       "    }\n",
       "</style>\n",
       "<table border=\"1\" class=\"dataframe\">\n",
       "  <thead>\n",
       "    <tr style=\"text-align: right;\">\n",
       "      <th>cluster</th>\n",
       "      <th>0</th>\n",
       "      <th>1</th>\n",
       "      <th>2</th>\n",
       "      <th>3</th>\n",
       "      <th>Total</th>\n",
       "    </tr>\n",
       "    <tr>\n",
       "      <th>label</th>\n",
       "      <th></th>\n",
       "      <th></th>\n",
       "      <th></th>\n",
       "      <th></th>\n",
       "      <th></th>\n",
       "    </tr>\n",
       "  </thead>\n",
       "  <tbody>\n",
       "    <tr>\n",
       "      <th>hate</th>\n",
       "      <td>3</td>\n",
       "      <td>0</td>\n",
       "      <td>4</td>\n",
       "      <td>4</td>\n",
       "      <td>11</td>\n",
       "    </tr>\n",
       "    <tr>\n",
       "      <th>noHate</th>\n",
       "      <td>27</td>\n",
       "      <td>20</td>\n",
       "      <td>22</td>\n",
       "      <td>20</td>\n",
       "      <td>89</td>\n",
       "    </tr>\n",
       "    <tr>\n",
       "      <th>Total</th>\n",
       "      <td>30</td>\n",
       "      <td>20</td>\n",
       "      <td>26</td>\n",
       "      <td>24</td>\n",
       "      <td>100</td>\n",
       "    </tr>\n",
       "  </tbody>\n",
       "</table>\n",
       "</div>"
      ],
      "text/plain": [
       "cluster   0   1   2   3  Total\n",
       "label                         \n",
       "hate      3   0   4   4     11\n",
       "noHate   27  20  22  20     89\n",
       "Total    30  20  26  24    100"
      ]
     },
     "execution_count": 77,
     "metadata": {},
     "output_type": "execute_result"
    }
   ],
   "source": [
    "# Tableau croisé\n",
    "cross_tab = pd.crosstab(cluste_df.label, cluste_df.cluster, margins=True, margins_name='Total')\n",
    "cross_tab"
   ]
  },
  {
   "cell_type": "code",
   "execution_count": 80,
   "metadata": {},
   "outputs": [
    {
     "data": {
      "text/html": [
       "<div>\n",
       "<style scoped>\n",
       "    .dataframe tbody tr th:only-of-type {\n",
       "        vertical-align: middle;\n",
       "    }\n",
       "\n",
       "    .dataframe tbody tr th {\n",
       "        vertical-align: top;\n",
       "    }\n",
       "\n",
       "    .dataframe thead th {\n",
       "        text-align: right;\n",
       "    }\n",
       "</style>\n",
       "<table border=\"1\" class=\"dataframe\">\n",
       "  <thead>\n",
       "    <tr style=\"text-align: right;\">\n",
       "      <th>cluster</th>\n",
       "      <th>0</th>\n",
       "      <th>1</th>\n",
       "      <th>2</th>\n",
       "      <th>3</th>\n",
       "    </tr>\n",
       "    <tr>\n",
       "      <th>label</th>\n",
       "      <th></th>\n",
       "      <th></th>\n",
       "      <th></th>\n",
       "      <th></th>\n",
       "    </tr>\n",
       "  </thead>\n",
       "  <tbody>\n",
       "    <tr>\n",
       "      <th>hate</th>\n",
       "      <td>10.0</td>\n",
       "      <td>0.0</td>\n",
       "      <td>15.38</td>\n",
       "      <td>16.67</td>\n",
       "    </tr>\n",
       "    <tr>\n",
       "      <th>noHate</th>\n",
       "      <td>90.0</td>\n",
       "      <td>100.0</td>\n",
       "      <td>84.62</td>\n",
       "      <td>83.33</td>\n",
       "    </tr>\n",
       "  </tbody>\n",
       "</table>\n",
       "</div>"
      ],
      "text/plain": [
       "cluster     0      1      2      3\n",
       "label                             \n",
       "hate     10.0    0.0  15.38  16.67\n",
       "noHate   90.0  100.0  84.62  83.33"
      ]
     },
     "execution_count": 80,
     "metadata": {},
     "output_type": "execute_result"
    }
   ],
   "source": [
    "# Tableau croisé avec pourcentage en colonne\n",
    "pd.crosstab(cluste_df.label, cluste_df.cluster).apply(lambda r: np.round(100*r/r.sum(),2), axis=0)"
   ]
  },
  {
   "cell_type": "code",
   "execution_count": 78,
   "metadata": {},
   "outputs": [
    {
     "data": {
      "text/html": [
       "<div>\n",
       "<style scoped>\n",
       "    .dataframe tbody tr th:only-of-type {\n",
       "        vertical-align: middle;\n",
       "    }\n",
       "\n",
       "    .dataframe tbody tr th {\n",
       "        vertical-align: top;\n",
       "    }\n",
       "\n",
       "    .dataframe thead th {\n",
       "        text-align: right;\n",
       "    }\n",
       "</style>\n",
       "<table border=\"1\" class=\"dataframe\">\n",
       "  <thead>\n",
       "    <tr style=\"text-align: right;\">\n",
       "      <th>cluster</th>\n",
       "      <th>0</th>\n",
       "      <th>1</th>\n",
       "      <th>2</th>\n",
       "      <th>3</th>\n",
       "    </tr>\n",
       "    <tr>\n",
       "      <th>label</th>\n",
       "      <th></th>\n",
       "      <th></th>\n",
       "      <th></th>\n",
       "      <th></th>\n",
       "    </tr>\n",
       "  </thead>\n",
       "  <tbody>\n",
       "    <tr>\n",
       "      <th>hate</th>\n",
       "      <td>27.27</td>\n",
       "      <td>0.00</td>\n",
       "      <td>36.36</td>\n",
       "      <td>36.36</td>\n",
       "    </tr>\n",
       "    <tr>\n",
       "      <th>noHate</th>\n",
       "      <td>30.34</td>\n",
       "      <td>22.47</td>\n",
       "      <td>24.72</td>\n",
       "      <td>22.47</td>\n",
       "    </tr>\n",
       "  </tbody>\n",
       "</table>\n",
       "</div>"
      ],
      "text/plain": [
       "cluster      0      1      2      3\n",
       "label                              \n",
       "hate     27.27   0.00  36.36  36.36\n",
       "noHate   30.34  22.47  24.72  22.47"
      ]
     },
     "execution_count": 78,
     "metadata": {},
     "output_type": "execute_result"
    }
   ],
   "source": [
    "# Tableau croisé avec pourcentage en ligne\n",
    "pd.crosstab(cluste_df.label, cluste_df.cluster).apply(lambda r: np.round(100*r/r.sum(),2), axis=1)"
   ]
  },
  {
   "cell_type": "code",
   "execution_count": null,
   "metadata": {},
   "outputs": [],
   "source": []
  },
  {
   "cell_type": "code",
   "execution_count": null,
   "metadata": {},
   "outputs": [],
   "source": []
  },
  {
   "cell_type": "code",
   "execution_count": null,
   "metadata": {},
   "outputs": [],
   "source": []
  },
  {
   "cell_type": "code",
   "execution_count": null,
   "metadata": {},
   "outputs": [],
   "source": []
  },
  {
   "cell_type": "code",
   "execution_count": null,
   "metadata": {},
   "outputs": [],
   "source": []
  },
  {
   "cell_type": "code",
   "execution_count": null,
   "metadata": {},
   "outputs": [],
   "source": []
  },
  {
   "cell_type": "code",
   "execution_count": null,
   "metadata": {},
   "outputs": [],
   "source": []
  },
  {
   "cell_type": "code",
   "execution_count": null,
   "metadata": {},
   "outputs": [],
   "source": []
  },
  {
   "cell_type": "code",
   "execution_count": null,
   "metadata": {},
   "outputs": [],
   "source": []
  },
  {
   "cell_type": "code",
   "execution_count": null,
   "metadata": {},
   "outputs": [],
   "source": []
  },
  {
   "cell_type": "markdown",
   "metadata": {},
   "source": [
    "# Modelization"
   ]
  },
  {
   "cell_type": "code",
   "execution_count": 11,
   "metadata": {},
   "outputs": [
    {
     "name": "stderr",
     "output_type": "stream",
     "text": [
      "Using TensorFlow backend.\n"
     ]
    }
   ],
   "source": [
    "from attention import AttentionLayer\n",
    "import re           \n",
    "from bs4 import BeautifulSoup \n",
    "from keras.preprocessing.text import Tokenizer \n",
    "from keras.preprocessing.sequence import pad_sequences\n",
    "from nltk.corpus import stopwords   \n",
    "from tensorflow.keras.layers import Input, LSTM, Embedding, Dense, Concatenate, TimeDistributed, Bidirectional\n",
    "from tensorflow.keras.models import Model\n",
    "from tensorflow.keras.callbacks import EarlyStopping\n",
    "import warnings\n",
    "pd.set_option(\"display.max_colwidth\", 200)\n",
    "warnings.filterwarnings(\"ignore\")\n",
    "\n",
    "from pickle import dump\n",
    "from pickle import load\n"
   ]
  },
  {
   "cell_type": "code",
   "execution_count": 22,
   "metadata": {},
   "outputs": [],
   "source": [
    "max_len_label = 80 \n",
    "max_len_text = 10"
   ]
  },
  {
   "cell_type": "code",
   "execution_count": 31,
   "metadata": {},
   "outputs": [],
   "source": [
    "# Split the dataset into into a training (90%) and validation set (10%).\n",
    "from sklearn.model_selection import train_test_split\n",
    "x_tr, x_val, y_tr, y_val = train_test_split(hate_speech_df['text'],\n",
    "                                            hate_speech_df['label'],\n",
    "                                            test_size=0.2, random_state=0, shuffle=True) "
   ]
  },
  {
   "cell_type": "markdown",
   "metadata": {},
   "source": [
    "## Preparing the Tokenizer"
   ]
  },
  {
   "cell_type": "code",
   "execution_count": 32,
   "metadata": {},
   "outputs": [],
   "source": [
    "#prepare a tokenizer for reviews on training data\n",
    "x_tokenizer = Tokenizer()\n",
    "x_tokenizer.fit_on_texts(list(x_tr))\n",
    "\n",
    "#convert text sequences into integer sequences\n",
    "x_tr = x_tokenizer.texts_to_sequences(x_tr) \n",
    "x_val = x_tokenizer.texts_to_sequences(x_val)\n",
    "\n",
    "#padding zero upto maximum length\n",
    "x_tr = pad_sequences(x_tr,  maxlen=max_len_text, padding='post') \n",
    "x_val = pad_sequences(x_val, maxlen=max_len_text, padding='post')\n",
    "\n",
    "x_voc_size = len(x_tokenizer.word_index) +1"
   ]
  },
  {
   "cell_type": "code",
   "execution_count": 33,
   "metadata": {},
   "outputs": [],
   "source": [
    "#preparing a tokenizer for summary on training data \n",
    "y_tokenizer = Tokenizer()\n",
    "y_tokenizer.fit_on_texts(list(y_tr))\n",
    "\n",
    "#convert summary sequences into integer sequences\n",
    "y_tr = y_tokenizer.texts_to_sequences(y_tr) \n",
    "y_val = y_tokenizer.texts_to_sequences(y_val) \n",
    "\n",
    "#padding zero upto maximum length\n",
    "y_tr = pad_sequences(y_tr, maxlen=max_len_label, padding='post')\n",
    "y_val = pad_sequences(y_val, maxlen=max_len_label, padding='post')\n",
    "\n",
    "y_voc_size = len(y_tokenizer.word_index) +1"
   ]
  },
  {
   "cell_type": "markdown",
   "metadata": {},
   "source": [
    "## Model building"
   ]
  },
  {
   "cell_type": "code",
   "execution_count": 34,
   "metadata": {},
   "outputs": [
    {
     "name": "stdout",
     "output_type": "stream",
     "text": [
      "WARNING:tensorflow:Entity <bound method AttentionLayer.call of <attention.AttentionLayer object at 0x1a39263588>> could not be transformed and will be executed as-is. Please report this to the AutoGraph team. When filing the bug, set the verbosity to 10 (on Linux, `export AUTOGRAPH_VERBOSITY=10`) and attach the full output. Cause: module 'gast' has no attribute 'Num'\n",
      "WARNING: Entity <bound method AttentionLayer.call of <attention.AttentionLayer object at 0x1a39263588>> could not be transformed and will be executed as-is. Please report this to the AutoGraph team. When filing the bug, set the verbosity to 10 (on Linux, `export AUTOGRAPH_VERBOSITY=10`) and attach the full output. Cause: module 'gast' has no attribute 'Num'\n",
      "Model: \"model\"\n",
      "__________________________________________________________________________________________________\n",
      "Layer (type)                    Output Shape         Param #     Connected to                     \n",
      "==================================================================================================\n",
      "input_1 (InputLayer)            [(None, 10)]         0                                            \n",
      "__________________________________________________________________________________________________\n",
      "embedding (Embedding)           (None, 10, 20)       251480      input_1[0][0]                    \n",
      "__________________________________________________________________________________________________\n",
      "lstm (LSTM)                     [(None, 10, 20), (No 3280        embedding[0][0]                  \n",
      "__________________________________________________________________________________________________\n",
      "input_2 (InputLayer)            [(None, None)]       0                                            \n",
      "__________________________________________________________________________________________________\n",
      "lstm_1 (LSTM)                   [(None, 10, 20), (No 3280        lstm[0][0]                       \n",
      "__________________________________________________________________________________________________\n",
      "embedding_1 (Embedding)         (None, None, 20)     60          input_2[0][0]                    \n",
      "__________________________________________________________________________________________________\n",
      "lstm_2 (LSTM)                   [(None, 10, 20), (No 3280        lstm_1[0][0]                     \n",
      "__________________________________________________________________________________________________\n",
      "lstm_3 (LSTM)                   [(None, None, 20), ( 3280        embedding_1[0][0]                \n",
      "                                                                 lstm_2[0][1]                     \n",
      "                                                                 lstm_2[0][2]                     \n",
      "__________________________________________________________________________________________________\n",
      "attention_layer (AttentionLayer ((None, None, 20), ( 820         lstm_2[0][0]                     \n",
      "                                                                 lstm_3[0][0]                     \n",
      "__________________________________________________________________________________________________\n",
      "concat_layer (Concatenate)      (None, None, 40)     0           lstm_3[0][0]                     \n",
      "                                                                 attention_layer[0][0]            \n",
      "__________________________________________________________________________________________________\n",
      "time_distributed (TimeDistribut (None, None, 3)      123         concat_layer[0][0]               \n",
      "==================================================================================================\n",
      "Total params: 265,603\n",
      "Trainable params: 265,603\n",
      "Non-trainable params: 0\n",
      "__________________________________________________________________________________________________\n"
     ]
    }
   ],
   "source": [
    "from keras import backend as K \n",
    "K.clear_session() \n",
    "latent_dim = 20 \n",
    "\n",
    "# Encoder \n",
    "encoder_inputs = Input(shape=(max_len_text,)) \n",
    "enc_emb = Embedding(x_voc_size, latent_dim,trainable=True)(encoder_inputs) \n",
    "\n",
    "#LSTM 1 \n",
    "encoder_lstm1 = LSTM(latent_dim,return_sequences=True,return_state=True) \n",
    "encoder_output1, state_h1, state_c1 = encoder_lstm1(enc_emb) \n",
    "\n",
    "#LSTM 2 \n",
    "encoder_lstm2 = LSTM(latent_dim,return_sequences=True,return_state=True) \n",
    "encoder_output2, state_h2, state_c2 = encoder_lstm2(encoder_output1) \n",
    "\n",
    "#LSTM 3 \n",
    "encoder_lstm3=LSTM(latent_dim, return_state=True, return_sequences=True) \n",
    "encoder_outputs, state_h, state_c= encoder_lstm3(encoder_output2) \n",
    "\n",
    "# Set up the decoder. \n",
    "decoder_inputs = Input(shape=(None,)) \n",
    "dec_emb_layer = Embedding(y_voc_size, latent_dim,trainable=True) \n",
    "dec_emb = dec_emb_layer(decoder_inputs) \n",
    "\n",
    "#LSTM using encoder_states as initial state\n",
    "decoder_lstm = LSTM(latent_dim, return_sequences=True, return_state=True) \n",
    "decoder_outputs,decoder_fwd_state, decoder_back_state = decoder_lstm(dec_emb,initial_state=[state_h, state_c]) \n",
    "\n",
    "#Attention Layer\n",
    "attn_layer = AttentionLayer(name='attention_layer') \n",
    "attn_out, attn_states = attn_layer([encoder_outputs, decoder_outputs]) \n",
    "\n",
    "# Concat attention output and decoder LSTM output \n",
    "decoder_concat_input = Concatenate(axis=-1, name='concat_layer')([decoder_outputs, attn_out])\n",
    "\n",
    "#Dense layer\n",
    "decoder_dense = TimeDistributed(Dense(y_voc_size, activation='softmax')) \n",
    "decoder_outputs = decoder_dense(decoder_concat_input) \n",
    "\n",
    "# Define the model\n",
    "model = Model([encoder_inputs, decoder_inputs], decoder_outputs) \n",
    "model.summary()"
   ]
  },
  {
   "cell_type": "code",
   "execution_count": 35,
   "metadata": {},
   "outputs": [],
   "source": [
    "model.compile(optimizer='rmsprop', loss='sparse_categorical_crossentropy')\n"
   ]
  },
  {
   "cell_type": "code",
   "execution_count": 36,
   "metadata": {},
   "outputs": [],
   "source": [
    "es = EarlyStopping(monitor='val_loss', mode='min', verbose=1)"
   ]
  },
  {
   "cell_type": "code",
   "execution_count": 37,
   "metadata": {},
   "outputs": [
    {
     "name": "stdout",
     "output_type": "stream",
     "text": [
      "Train on 8444 samples, validate on 2111 samples\n",
      "Epoch 1/10\n",
      "WARNING:tensorflow:From /Users/djibybalde/anaconda3/lib/python3.7/site-packages/tensorflow_core/python/ops/math_grad.py:1394: where (from tensorflow.python.ops.array_ops) is deprecated and will be removed in a future version.\n",
      "Instructions for updating:\n",
      "Use tf.where in 2.0, which has the same broadcast rule as np.where\n",
      "WARNING:tensorflow:Entity <function Function._initialize_uninitialized_variables.<locals>.initialize_variables at 0x1a374e49d8> could not be transformed and will be executed as-is. Please report this to the AutoGraph team. When filing the bug, set the verbosity to 10 (on Linux, `export AUTOGRAPH_VERBOSITY=10`) and attach the full output. Cause: module 'gast' has no attribute 'Num'\n",
      "WARNING: Entity <function Function._initialize_uninitialized_variables.<locals>.initialize_variables at 0x1a374e49d8> could not be transformed and will be executed as-is. Please report this to the AutoGraph team. When filing the bug, set the verbosity to 10 (on Linux, `export AUTOGRAPH_VERBOSITY=10`) and attach the full output. Cause: module 'gast' has no attribute 'Num'\n",
      "8444/8444 [==============================] - 13s 2ms/sample - loss: 0.6740 - val_loss: 0.1614\n",
      "Epoch 2/10\n",
      "8444/8444 [==============================] - 4s 441us/sample - loss: 0.0640 - val_loss: 0.0164\n",
      "Epoch 3/10\n",
      "8444/8444 [==============================] - 4s 434us/sample - loss: 0.0098 - val_loss: 0.0048\n",
      "Epoch 4/10\n",
      "8444/8444 [==============================] - 4s 463us/sample - loss: 0.0033 - val_loss: 0.0020\n",
      "Epoch 5/10\n",
      "8444/8444 [==============================] - 4s 452us/sample - loss: 0.0014 - val_loss: 8.9482e-04\n",
      "Epoch 6/10\n",
      "8444/8444 [==============================] - 4s 455us/sample - loss: 6.5920e-04 - val_loss: 4.2753e-04\n",
      "Epoch 7/10\n",
      "8444/8444 [==============================] - 4s 450us/sample - loss: 3.1725e-04 - val_loss: 2.0862e-04\n",
      "Epoch 8/10\n",
      "8444/8444 [==============================] - 4s 441us/sample - loss: 1.5512e-04 - val_loss: 1.0261e-04\n",
      "Epoch 9/10\n",
      "8444/8444 [==============================] - 4s 446us/sample - loss: 7.6283e-05 - val_loss: 5.0580e-05\n",
      "Epoch 10/10\n",
      "8444/8444 [==============================] - 4s 461us/sample - loss: 3.7552e-05 - val_loss: 2.4912e-05\n"
     ]
    }
   ],
   "source": [
    "history=model.fit([x_tr,y_tr[:,:-1]], y_tr.reshape(y_tr.shape[0],y_tr.shape[1], 1)[:,1:],\n",
    "                  epochs=10,callbacks=[es], batch_size=512,\n",
    "                  validation_data=([x_val,y_val[:,:-1]],y_val.reshape(y_val.shape[0],y_val.shape[1], 1)[:,1:]))"
   ]
  },
  {
   "cell_type": "code",
   "execution_count": 38,
   "metadata": {},
   "outputs": [
    {
     "data": {
      "image/png": "[encoded data removed]",
      "text/plain": [
       "<Figure size 864x432 with 1 Axes>"
      ]
     },
     "metadata": {
      "needs_background": "light"
     },
     "output_type": "display_data"
    }
   ],
   "source": [
    "import matplotlib.pyplot as plt\n",
    "\n",
    "fig, ax= plt.subplots(figsize=(12, 6))\n",
    "\n",
    "ax.plot(history.history['loss'], label='train') \n",
    "ax.plot(history.history['val_loss'], label='test') \n",
    "ax.legend(); plt.show()\n"
   ]
  },
  {
   "cell_type": "code",
   "execution_count": 39,
   "metadata": {},
   "outputs": [],
   "source": [
    "reverse_target_word_index = y_tokenizer.index_word \n",
    "reverse_source_word_index = x_tokenizer.index_word \n",
    "target_word_index = y_tokenizer.word_index\n"
   ]
  },
  {
   "cell_type": "code",
   "execution_count": 40,
   "metadata": {},
   "outputs": [
    {
     "name": "stdout",
     "output_type": "stream",
     "text": [
      "WARNING:tensorflow:Entity <bound method AttentionLayer.call of <attention.AttentionLayer object at 0x1a39263588>> could not be transformed and will be executed as-is. Please report this to the AutoGraph team. When filing the bug, set the verbosity to 10 (on Linux, `export AUTOGRAPH_VERBOSITY=10`) and attach the full output. Cause: module 'gast' has no attribute 'Num'\n",
      "WARNING: Entity <bound method AttentionLayer.call of <attention.AttentionLayer object at 0x1a39263588>> could not be transformed and will be executed as-is. Please report this to the AutoGraph team. When filing the bug, set the verbosity to 10 (on Linux, `export AUTOGRAPH_VERBOSITY=10`) and attach the full output. Cause: module 'gast' has no attribute 'Num'\n"
     ]
    }
   ],
   "source": [
    "# encoder inference\n",
    "encoder_model = Model(inputs=encoder_inputs,outputs=[encoder_outputs, state_h, state_c])\n",
    "\n",
    "# decoder inference\n",
    "# Below tensors will hold the states of the previous time step\n",
    "decoder_state_input_h = Input(shape=(latent_dim,))\n",
    "decoder_state_input_c = Input(shape=(latent_dim,))\n",
    "decoder_hidden_state_input = Input(shape=(max_len_text,latent_dim))\n",
    "\n",
    "# Get the embeddings of the decoder sequence\n",
    "dec_emb2= dec_emb_layer(decoder_inputs)\n",
    "\n",
    "# To predict the next word in the sequence, set the initial states to the states from the previous time step\n",
    "decoder_outputs2, state_h2, state_c2 = decoder_lstm(dec_emb2, initial_state=[decoder_state_input_h, decoder_state_input_c])\n",
    "\n",
    "#attention inference\n",
    "attn_out_inf, attn_states_inf = attn_layer([decoder_hidden_state_input, decoder_outputs2])\n",
    "decoder_inf_concat = Concatenate(axis=-1, name='concat')([decoder_outputs2, attn_out_inf])\n",
    "\n",
    "# A dense softmax layer to generate prob dist. over the target vocabulary\n",
    "decoder_outputs2 = decoder_dense(decoder_inf_concat)\n",
    "\n",
    "# Final decoder model\n",
    "decoder_model = Model(\n",
    "[decoder_inputs] + [decoder_hidden_state_input,decoder_state_input_h, decoder_state_input_c],\n",
    "[decoder_outputs2] + [state_h2, state_c2])\n"
   ]
  },
  {
   "cell_type": "code",
   "execution_count": 41,
   "metadata": {},
   "outputs": [],
   "source": [
    "def decode_sequence(input_seq):\n",
    "    # Encode the input as state vectors.\n",
    "    e_out, e_h, e_c = encoder_model.predict(input_seq)\n",
    "\n",
    "    # Generate empty target sequence of length 1.\n",
    "    target_seq = np.zeros((1,1))\n",
    "\n",
    "    # Chose the 'start' word as the first word of the target sequence\n",
    "    target_seq[0, 0] = target_word_index['start']\n",
    "\n",
    "    stop_condition = False\n",
    "    decoded_sentence = ''\n",
    "    while not stop_condition:\n",
    "        output_tokens, h, c = decoder_model.predict([target_seq] + [e_out, e_h, e_c])\n",
    "\n",
    "        # Sample a token\n",
    "        sampled_token_index = np.argmax(output_tokens[0, -1, :])\n",
    "        sampled_token = reverse_target_word_index[sampled_token_index]\n",
    "\n",
    "        if(sampled_token!='end'):\n",
    "            decoded_sentence += ' '+sampled_token\n",
    "\n",
    "            # Exit condition: either hit max length or find stop word.\n",
    "            if (sampled_token == 'end' or len(decoded_sentence.split()) >= (max_len_summary-1)):\n",
    "                stop_condition = True\n",
    "\n",
    "        # Update the target sequence (of length 1).\n",
    "        target_seq = np.zeros((1,1))\n",
    "        target_seq[0, 0] = sampled_token_index\n",
    "\n",
    "        # Update internal states\n",
    "        e_h, e_c = h, c\n",
    "\n",
    "    return decoded_sentence"
   ]
  },
  {
   "cell_type": "code",
   "execution_count": 42,
   "metadata": {},
   "outputs": [],
   "source": [
    "def seq2summary(input_seq):\n",
    "    newString = ''\n",
    "    for i in input_seq:\n",
    "        if((i!=0 and i!=target_word_index['start']) and i!=target_word_index['end']):\n",
    "            newString = newString+reverse_target_word_index[i]+' '\n",
    "    return newString\n",
    "\n",
    "def seq2text(input_seq):\n",
    "    newString = ''\n",
    "    for i in input_seq:\n",
    "        if (i!=0):\n",
    "            newString = newString+reverse_source_word_index[i]+' '\n",
    "    return newString\n"
   ]
  },
  {
   "cell_type": "code",
   "execution_count": null,
   "metadata": {},
   "outputs": [],
   "source": []
  },
  {
   "cell_type": "code",
   "execution_count": null,
   "metadata": {},
   "outputs": [],
   "source": []
  },
  {
   "cell_type": "code",
   "execution_count": null,
   "metadata": {},
   "outputs": [],
   "source": []
  }
 ],
 "metadata": {
  "kernelspec": {
   "display_name": "Python 3",
   "language": "python",
   "name": "python3"
  },
  "language_info": {
   "codemirror_mode": {
    "name": "ipython",
    "version": 3
   },
   "file_extension": ".py",
   "mimetype": "text/x-python",
   "name": "python",
   "nbconvert_exporter": "python",
   "pygments_lexer": "ipython3",
   "version": "3.7.3"
  }
 },
 "nbformat": 4,
 "nbformat_minor": 4
}
